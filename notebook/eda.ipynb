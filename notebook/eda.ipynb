{
 "cells": [
  {
   "cell_type": "code",
   "execution_count": 3,
   "metadata": {},
   "outputs": [
    {
     "name": "stdout",
     "output_type": "stream",
     "text": [
      "Accuracy: 0.8100558659217877\n",
      "ROC AUC: 0.8001930501930502\n"
     ]
    },
    {
     "data": {
      "text/plain": [
       "array([0])"
      ]
     },
     "execution_count": 3,
     "metadata": {},
     "output_type": "execute_result"
    }
   ],
   "source": [
    "import pandas as pd\n",
    "from sklearn.model_selection import train_test_split\n",
    "from sklearn.linear_model import LogisticRegression\n",
    "from sklearn.metrics import accuracy_score, roc_auc_score\n",
    "import joblib\n",
    "\n",
    "\n",
    "# Load data\n",
    "df = pd.read_csv('/Users/ekaterinasharifullina/Documents/my_env/programming/titanic_survival/data/train.csv')  # You can adjust this path if needed\n",
    "\n",
    "def preprocess_data(df):\n",
    "    dfcopy = df.copy(deep=True)\n",
    "\n",
    "    # Fill missing values\n",
    "    dfcopy['Age'] = dfcopy['Age'].fillna(dfcopy['Age'].median())\n",
    "\n",
    "    dfcopy['Embarked'] = dfcopy['Embarked'].fillna(dfcopy['Embarked'].mode()[0])\n",
    "\n",
    "\n",
    "    # Drop irrelevant columns\n",
    "    dfcopy.drop(['Name', 'PassengerId', 'Cabin', 'Ticket'], axis=1, inplace=True)\n",
    "\n",
    "    # Encode categorical variables\n",
    "    dfcopy['Sex'] = dfcopy['Sex'].map({'male': 0, 'female': 1})\n",
    "    dfcopy = pd.get_dummies(dfcopy, columns=['Embarked'], drop_first=True)\n",
    "\n",
    "    return dfcopy\n",
    "\n",
    "# Preprocess\n",
    "df_clean = preprocess_data(df)\n",
    "\n",
    "\n",
    "# Split into features and target\n",
    "X = df_clean.drop('Survived', axis=1)\n",
    "y = df_clean['Survived']\n",
    "\n",
    "# Train/test split\n",
    "X_train, X_test, y_train, y_test = train_test_split(X, y, test_size=0.2, random_state=42)\n",
    "\n",
    "# Model training\n",
    "model = LogisticRegression(max_iter=1000)\n",
    "model.fit(X_train, y_train)\n",
    "\n",
    "# Evaluation\n",
    "y_pred = model.predict(X_test)\n",
    "print(\"Accuracy:\", accuracy_score(y_test, y_pred))\n",
    "print(\"ROC AUC:\", roc_auc_score(y_test, y_pred))\n",
    "\n",
    "joblib.dump(model,\"titanic_model.pkl\")\n",
    "\n",
    "loaded_model = joblib.load(\"titanic_model.pkl\")\n",
    "\n",
    "loaded_model.predict(X_test[0:1])\n",
    "\n",
    "\n"
   ]
  }
 ],
 "metadata": {
  "kernelspec": {
   "display_name": "myenv",
   "language": "python",
   "name": "python3"
  },
  "language_info": {
   "codemirror_mode": {
    "name": "ipython",
    "version": 3
   },
   "file_extension": ".py",
   "mimetype": "text/x-python",
   "name": "python",
   "nbconvert_exporter": "python",
   "pygments_lexer": "ipython3",
   "version": "3.12.3"
  }
 },
 "nbformat": 4,
 "nbformat_minor": 2
}
